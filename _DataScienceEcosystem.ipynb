{
 "cells": [
  {
   "cell_type": "markdown",
   "id": "9f7d04f3",
   "metadata": {},
   "source": [
    "<h1>Data Science Tools and Ecosystem</h1>"
   ]
  },
  {
   "cell_type": "markdown",
   "id": "2c54d05c",
   "metadata": {},
   "source": [
    "In this notebook, data Science Tools and Ecosystem are summarized."
   ]
  },
  {
   "cell_type": "markdown",
   "id": "16f0a094",
   "metadata": {},
   "source": [
    "**Objectives:**\n",
    "-List of popular languages for data Science.\n",
    "-Some of the commonly used libraries used by Data Scientists.\n",
    "-Data Science Tools.\n"
   ]
  },
  {
   "cell_type": "markdown",
   "id": "183bf5b9",
   "metadata": {},
   "source": [
    "Some of the popular languages that Data Scientists use are:\n",
    "1. Python\n",
    "2. R\n",
    "3. C++"
   ]
  },
  {
   "cell_type": "markdown",
   "id": "31604d3e",
   "metadata": {},
   "source": [
    "Some of the commonly used libraries used by Data Scientists include:\n",
    "1. Numpy\n",
    "2. Scipy\n",
    "3. Pandas\n",
    "4. Matplotlib"
   ]
  },
  {
   "cell_type": "markdown",
   "id": "8eca4e93",
   "metadata": {},
   "source": [
    "|Data Science Tools|\n",
    "|:-----------------|\n",
    "|Jupyter Notebook  |\n",
    "|RStudio           |\n",
    "|Tableau           |"
   ]
  },
  {
   "cell_type": "markdown",
   "id": "97f90ff4",
   "metadata": {},
   "source": [
    "<h3>Below are a few examples of evaluating arithmetic expressions in Python<h3>"
   ]
  },
  {
   "cell_type": "code",
   "execution_count": 1,
   "id": "d61bce2d",
   "metadata": {},
   "outputs": [
    {
     "data": {
      "text/plain": [
       "17"
      ]
     },
     "execution_count": 1,
     "metadata": {},
     "output_type": "execute_result"
    }
   ],
   "source": [
    "#This is a simple arithmetic expression to multiply then add integers\n",
    "(3*4)+5"
   ]
  },
  {
   "cell_type": "code",
   "execution_count": 2,
   "id": "0fe3bc0b",
   "metadata": {},
   "outputs": [
    {
     "data": {
      "text/plain": [
       "3.3333333333333335"
      ]
     },
     "execution_count": 2,
     "metadata": {},
     "output_type": "execute_result"
    }
   ],
   "source": [
    "#This will convert 200 minutes to hourrs by dividing by 60 \n",
    "(200/60)"
   ]
  },
  {
   "cell_type": "markdown",
   "id": "028873c8",
   "metadata": {},
   "source": [
    "<h2>Author<h2>\n",
    "    Ari Kattan"
   ]
  }
 ],
 "metadata": {
  "kernelspec": {
   "display_name": "Python 3 (ipykernel)",
   "language": "python",
   "name": "python3"
  },
  "language_info": {
   "codemirror_mode": {
    "name": "ipython",
    "version": 3
   },
   "file_extension": ".py",
   "mimetype": "text/x-python",
   "name": "python",
   "nbconvert_exporter": "python",
   "pygments_lexer": "ipython3",
   "version": "3.11.5"
  }
 },
 "nbformat": 4,
 "nbformat_minor": 5
}
